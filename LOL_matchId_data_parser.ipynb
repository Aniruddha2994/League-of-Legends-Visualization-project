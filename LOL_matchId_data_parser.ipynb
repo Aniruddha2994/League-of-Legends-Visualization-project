{
 "cells": [
  {
   "cell_type": "markdown",
   "metadata": {},
   "source": [
    "# League of Legends: matches data parser from riot official api\n",
    "#### This code is able to generate 100 matchIDs and write the data to a csv. \n",
    "\n",
    "###### created by:                   Aniruddha Dutta\n",
    "###### Created on:                   13th Nov 2019\n",
    "###### last modified on:             13th Nov 2019"
   ]
  },
  {
   "cell_type": "code",
   "execution_count": null,
   "metadata": {},
   "outputs": [],
   "source": [
    "import requests\n",
    "import json\n",
    "import sys\n",
    "import time\n",
    "import pandas as pd\n",
    "from pandas.io.json import json_normalize\n",
    "from tqdm import tqdm"
   ]
  },
  {
   "cell_type": "markdown",
   "metadata": {},
   "source": [
    "Setting the URL and parameters"
   ]
  },
  {
   "cell_type": "code",
   "execution_count": null,
   "metadata": {},
   "outputs": [],
   "source": [
    "URL = 'https://na1.api.riotgames.com/lol/match/v4/matches/3187158923'\n",
    "gameId = ['3187158923']\n",
    "params = {'api_key': key}"
   ]
  },
  {
   "cell_type": "markdown",
   "metadata": {},
   "source": [
    "### Funtions:\n",
    "\n",
    "Declaring the following user-defined functions:\n",
    "1. get_matches_data(): to crawl match data(json)for the set of gameIds from the riot match api\n",
    "2. get_player_ids(): to crawl list of participants and their accountIds/PlayerIds\n",
    "3. get_game_ids(): get the 10 most recent gameIds for each individual playerId"
   ]
  },
  {
   "cell_type": "code",
   "execution_count": null,
   "metadata": {},
   "outputs": [],
   "source": [
    "def get_matches_data(gameId, params):\n",
    "    \n",
    "    c = 1\n",
    "    \n",
    "    for game in tqdm(gameId):\n",
    "        #set url for fetching match data from the riot match api\n",
    "        url = 'https://na1.api.riotgames.com/lol/match/v4/matches/'+ str(game)\n",
    "        #print('GameId:' + str(game))\n",
    "        #fetch match json for the given url\n",
    "        r = requests.get(url = url, params = params)\n",
    "        #print('request_status: '+ str(r))\n",
    "        data = json.loads(json.dumps(r.json()))\n",
    "        \n",
    "        if r.status_code == 200:\n",
    "            df = json_normalize(data) #normalize json into dataframe to flatten data\n",
    "            \n",
    "            #flatten matches json data\n",
    "            #seperate the metadata columns\n",
    "            df.drop(['teams', 'participants','participantIdentities'], axis = 1, inplace = True) \n",
    "            metadata = df\n",
    "            #flatten the participants and participantIdentities into different datasets and merge to get the participant data\n",
    "            participants_df = json_normalize(data['participants'],\n",
    "                                             meta = 'gameId')\n",
    "            \n",
    "            participantId_df = json_normalize(data['participantIdentities'])\n",
    "            \n",
    "            participant_data = participants_df.merge(participantId_df,\n",
    "                                                     left_on = 'participantId',\n",
    "                                                     right_on = 'participantId')\n",
    "            #flatten Teams data to get team level statistics and champion bans per team\n",
    "            team_data = json_normalize(data,\n",
    "                                       record_path = 'teams',\n",
    "                                       meta = 'gameId')\n",
    "            team_data.drop('bans', axis = 1, inplace = True)\n",
    "            \n",
    "            team_bans = json_normalize(data['teams'],\n",
    "                                       record_path = 'bans',\n",
    "                                       meta = 'teamId')\n",
    "            #renaming column to state that these championIDs refer to thise champions that were banned by each team\n",
    "            team_bans.rename(columns = {'championId' : 'championId_bans'}, inplace = True) \n",
    "            \n",
    "            teams_data = team_data.merge(team_bans, \n",
    "                                         left_on = 'teamId',\n",
    "                                         right_on = 'teamId')\n",
    "            \n",
    "            #merging the prepared data for participants, teams and metadata to create the final match data\n",
    "            match_data = (participant_data.merge(teams_data,\n",
    "                                                 left_on = ['teamId', 'participantId'],\n",
    "                                                 right_on = ['teamId','pickTurn'])).merge(df,\n",
    "                                                                                          left_on = 'gameId',\n",
    "                                                                                          right_on = 'gameId')\n",
    "            match_data.drop(['stats.participantId',\n",
    "                             'stats.longestTimeSpentLiving',\n",
    "                             'stats.doubleKills',\n",
    "                             'stats.tripleKills',\n",
    "                             'stats.quadraKills',\n",
    "                             'stats.pentaKills',\n",
    "                             'stats.unrealKills',\n",
    "                             'stats.perk0Var1',\n",
    "                             'stats.perk0Var2',\n",
    "                             'stats.perk0Var3',\n",
    "                             'stats.perk1Var1',\n",
    "                             'stats.perk1Var2',\n",
    "                             'stats.perk1Var3',\n",
    "                             'stats.perk2Var1',\n",
    "                             'stats.perk2Var2',\n",
    "                             'stats.perk2Var3',\n",
    "                             'stats.perk3Var1',\n",
    "                             'stats.perk3Var2',\n",
    "                             'stats.perk3Var3',\n",
    "                             'stats.perk4Var1',\n",
    "                             'stats.perk4Var2',\n",
    "                             'stats.perk4Var3',\n",
    "                             'stats.perk5Var1',\n",
    "                             'stats.perk5Var2',\n",
    "                             'stats.perk5Var3',\n",
    "                             'timeline.participantId',\n",
    "                             'player.platformId',\n",
    "                             'player.currentPlatformId',\n",
    "                             'player.currentAccountId',\n",
    "                             'player.profileIcon'], axis = 1, inplace = True)\n",
    "            #print('match data pull success')\n",
    "            if c==1:\n",
    "                match_final_data = match_data\n",
    "            else:\n",
    "                match_final_data = match_final_data.append(match_data)\n",
    "            c = c+1\n",
    "            time.sleep(20)\n",
    "        elif r.status_code != 200:\n",
    "            print('The matchId ' + str(game) + ' does not have bans data')\n",
    "            time.sleep(10)\n",
    "        \n",
    "    return match_final_data\n"
   ]
  },
  {
   "cell_type": "code",
   "execution_count": null,
   "metadata": {},
   "outputs": [],
   "source": [
    "def get_player_id(gameId, params):\n",
    "    URL = 'https://na1.api.riotgames.com/lol/match/v4/matches/'+ str(gameId)\n",
    "    r = requests.get(url = URL, params = params)\n",
    "    player_ids = []\n",
    "    for player_id in r.json()[\"participantIdentities\"]:\n",
    "        print(player_id[\"player\"][\"accountId\"])\n",
    "        player_ids.append(player_id[\"player\"][\"accountId\"])\n",
    "        \n",
    "    return player_ids"
   ]
  },
  {
   "cell_type": "code",
   "execution_count": null,
   "metadata": {},
   "outputs": [],
   "source": [
    "def get_game_id(player_ids, params):\n",
    "    gameIds = []\n",
    "    for player in player_ids:\n",
    "        URL = 'https://na1.api.riotgames.com/lol/match/v4/matchlists/by-account/'+ player\n",
    "        print(URL)\n",
    "        r = requests.get(url = URL, params = params)\n",
    "        #print(json.dumps(r.json()))\n",
    "        #matches = [x for x in r.json()[\"matches\"]]\n",
    "        for match in r.json()[\"matches\"]:\n",
    "            gameIds.append(match[\"gameId\"])\n",
    "        print(len(gameIds))\n",
    "        print(gameIds)\n",
    "        time.sleep(10)\n",
    "        break\n",
    "    return gameIds"
   ]
  },
  {
   "cell_type": "markdown",
   "metadata": {},
   "source": [
    "### Main Code:\n",
    "\n",
    "Currently this section is able to craw data for 100 matchIDs from a single random gameId and store it in a csv format\n",
    "next steps: write logic to craw more matchIDs from the available information and store them in batchesin csv format."
   ]
  },
  {
   "cell_type": "code",
   "execution_count": null,
   "metadata": {},
   "outputs": [],
   "source": [
    "matches_data = get_matches_data(gameId, params)\n",
    "matches_data"
   ]
  },
  {
   "cell_type": "code",
   "execution_count": null,
   "metadata": {},
   "outputs": [],
   "source": [
    "player_ids = get_player_id(gameId[0], params)"
   ]
  },
  {
   "cell_type": "code",
   "execution_count": null,
   "metadata": {},
   "outputs": [],
   "source": [
    "gameIds = get_game_id(player_ids, params)"
   ]
  },
  {
   "cell_type": "code",
   "execution_count": null,
   "metadata": {},
   "outputs": [],
   "source": [
    "matches_final_data = get_matches_data(gameIds, params)"
   ]
  },
  {
   "cell_type": "code",
   "execution_count": null,
   "metadata": {},
   "outputs": [],
   "source": [
    "matches_final_data.head()"
   ]
  },
  {
   "cell_type": "code",
   "execution_count": null,
   "metadata": {},
   "outputs": [],
   "source": [
    "matches_final_data.to_csv('matches_data_1.csv')"
   ]
  },
  {
   "cell_type": "code",
   "execution_count": null,
   "metadata": {},
   "outputs": [],
   "source": []
  }
 ],
 "metadata": {
  "kernelspec": {
   "display_name": "Python 3",
   "language": "python",
   "name": "python3"
  },
  "language_info": {
   "codemirror_mode": {
    "name": "ipython",
    "version": 3
   },
   "file_extension": ".py",
   "mimetype": "text/x-python",
   "name": "python",
   "nbconvert_exporter": "python",
   "pygments_lexer": "ipython3",
   "version": "3.7.3"
  }
 },
 "nbformat": 4,
 "nbformat_minor": 2
}
